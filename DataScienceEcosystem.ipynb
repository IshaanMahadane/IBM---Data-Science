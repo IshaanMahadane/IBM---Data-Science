{
 "cells": [
  {
   "cell_type": "markdown",
   "id": "4a500000-5684-4191-879f-11f8ea26a994",
   "metadata": {},
   "source": [
    "# Data Science Tools and Ecosystem"
   ]
  },
  {
   "cell_type": "markdown",
   "id": "c3b093e0-fa2a-4b64-ad2b-d6cff795272b",
   "metadata": {},
   "source": [
    "In this notebook, Data Science Tools and Ecosystem are summarized."
   ]
  },
  {
   "cell_type": "markdown",
   "id": "a128d8a5-857b-4dc2-9507-bfeaee480691",
   "metadata": {},
   "source": [
    "**Objectives:**\n",
    "\n",
    "- List popular languages for Data Science  \n",
    "- Introduce commonly used libraries and tools in Data Science  \n",
    "- Perform basic arithmetic operations using Python  \n",
    "- Create and format tables using Markdown  \n",
    "- Convert time units using simple Python expressions"
   ]
  },
  {
   "cell_type": "markdown",
   "id": "8c46fb2d-4773-4038-99d5-b5c34ee32e6d",
   "metadata": {},
   "source": [
    "Some of the popular languages that Data Scientists use are:\n",
    "\n",
    "1. Python  \n",
    "2. R  \n",
    "3. SQL  \n",
    "4. Java  "
   ]
  },
  {
   "cell_type": "markdown",
   "id": "0712f29b-f269-440c-8dc8-681c19fdb67c",
   "metadata": {},
   "source": [
    "Some of the commonly used libraries used by Data Scientists include:\n",
    "\n",
    "1. NumPy  \n",
    "2. Pandas  \n",
    "3. Matplotlib  "
   ]
  },
  {
   "cell_type": "markdown",
   "id": "0d232d2e-154f-4716-b392-fc15a23e46d3",
   "metadata": {},
   "source": [
    "| Data Science Tools        |\n",
    "|---------------------------|\n",
    "| Jupyter Notebook          |\n",
    "| RStudio                   |\n",
    "| Visual Studio Code (VS Code)|\n"
   ]
  },
  {
   "cell_type": "markdown",
   "id": "1be5f2fd-8116-44db-8caa-777604062adb",
   "metadata": {},
   "source": [
    "### Below are a few examples of evaluating arithmetic expressions in Python"
   ]
  },
  {
   "cell_type": "code",
   "execution_count": 3,
   "id": "ea864bc7-d106-4508-919f-41416e9d675d",
   "metadata": {},
   "outputs": [
    {
     "data": {
      "text/plain": [
       "17"
      ]
     },
     "execution_count": 3,
     "metadata": {},
     "output_type": "execute_result"
    }
   ],
   "source": [
    "#This a simple arithmetic expression to mutiply then add integers\n",
    "\n",
    "(3*4)+5"
   ]
  },
  {
   "cell_type": "code",
   "execution_count": 4,
   "id": "30965423-7ebd-4d01-a395-efd870ba78d1",
   "metadata": {},
   "outputs": [
    {
     "data": {
      "text/plain": [
       "3.3333333333333335"
      ]
     },
     "execution_count": 4,
     "metadata": {},
     "output_type": "execute_result"
    }
   ],
   "source": [
    "# This will convert 200 minutes to hours by dividing by 60\n",
    "hours = 200 / 60\n",
    "hours"
   ]
  },
  {
   "cell_type": "markdown",
   "id": "52ecde41-2da6-4056-9fbb-fa798fadcabb",
   "metadata": {},
   "source": [
    "## Author\n",
    "Ishaan Mahadane"
   ]
  },
  {
   "cell_type": "code",
   "execution_count": null,
   "id": "c048100f-c3ca-4d7e-b1c6-e9a510084f70",
   "metadata": {},
   "outputs": [],
   "source": []
  }
 ],
 "metadata": {
  "kernelspec": {
   "display_name": "Python 3 (ipykernel)",
   "language": "python",
   "name": "python3"
  },
  "language_info": {
   "codemirror_mode": {
    "name": "ipython",
    "version": 3
   },
   "file_extension": ".py",
   "mimetype": "text/x-python",
   "name": "python",
   "nbconvert_exporter": "python",
   "pygments_lexer": "ipython3",
   "version": "3.9.7"
  }
 },
 "nbformat": 4,
 "nbformat_minor": 5
}
